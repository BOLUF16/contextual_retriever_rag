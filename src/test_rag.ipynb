{
 "cells": [
  {
   "cell_type": "code",
   "execution_count": 2,
   "metadata": {},
   "outputs": [],
   "source": [
    "from utils.chat import Chat\n",
    "\n",
    "rag = Chat(\n",
    "    model=\"qwen-2.5-32b\",\n",
    "    temperature=0.2\n",
    ")"
   ]
  },
  {
   "cell_type": "code",
   "execution_count": 4,
   "metadata": {},
   "outputs": [
    {
     "name": "stderr",
     "output_type": "stream",
     "text": [
      "c:\\Users\\Bolu\\anaconda3\\envs\\torch\\Lib\\site-packages\\sentence_transformers\\cross_encoder\\CrossEncoder.py:11: TqdmWarning: IProgress not found. Please update jupyter and ipywidgets. See https://ipywidgets.readthedocs.io/en/stable/user_install.html\n",
      "  from tqdm.autonotebook import tqdm, trange\n",
      "c:\\Users\\Bolu\\anaconda3\\envs\\torch\\Lib\\site-packages\\transformers\\models\\bert\\modeling_bert.py:439: UserWarning: 1Torch was not compiled with flash attention. (Triggered internally at C:\\cb\\pytorch_1000000000000\\work\\aten\\src\\ATen\\native\\transformers\\cuda\\sdp_utils.cpp:555.)\n",
      "  attn_output = torch.nn.functional.scaled_dot_product_attention(\n"
     ]
    }
   ],
   "source": [
    "qa_chain = rag.create_qa_chain(\n",
    "    file_path=\"C:/Users/Bolu/Downloads/ng-morisn-2022-ir-hy.pdf\",\n",
    "    retrieval_method=\"rerank\" \n",
    ")\n"
   ]
  },
  {
   "cell_type": "code",
   "execution_count": 5,
   "metadata": {},
   "outputs": [
    {
     "name": "stdout",
     "output_type": "stream",
     "text": [
      "content=\"The provided document is an excerpt from the unaudited monthly financial reports of Morison Industries PLC as of June 30, 2022. It includes several key financial statements and notes:\\n\\n1. **Statement of Changes in Equity**: This section details the equity movements of the company, including shares, share premium, revenue reserve, and revaluation reserve, from January 1, 2021, to June 30, 2022. It highlights the balance at the start of the period, comprehensive income (including losses and other comprehensive income), transactions with owners, and the balance at the end of the period.\\n\\n2. **Financial Statements Notes**: The notes provide detailed breakdowns of the company's financial activities, including revenue, cost of sales, gross profit, and expenses. These are categorized under different activities such as Pharmaceuticals, LMP-Consumers, and Others/Contracts. The notes also detail the cost of sales, distribution expenses, and operating expenses, providing a comparison between the current and previous periods.\\n\\n3. **Statement of Profit or Loss and Other Comprehensive Income**: This statement provides a detailed breakdown of the company's financial performance, including revenue, cost of sales, gross profit, distribution and operating expenses, finance income and expenses, and the resulting loss before and after taxation. It also includes the loss for the year and other comprehensive income, leading to the total comprehensive loss. The document also includes the loss per share for the period.\\n\\nThe document is structured to provide a comprehensive view of Morison Industries PLC's financial health and performance over the specified period, with a particular focus on equity changes and financial performance metrics.\" additional_kwargs={} response_metadata={'token_usage': {'completion_tokens': 336, 'prompt_tokens': 3201, 'total_tokens': 3537, 'completion_time': 1.6800000000000002, 'prompt_time': 0.150870629, 'queue_time': 0.24269637400000002, 'total_time': 1.830870629}, 'model_name': 'qwen-2.5-32b', 'system_fingerprint': 'fp_35f92f8282', 'finish_reason': 'stop', 'logprobs': None} id='run-8634671e-56a5-42ef-baa6-3452ecb28527-0' usage_metadata={'input_tokens': 3201, 'output_tokens': 336, 'total_tokens': 3537}\n"
     ]
    }
   ],
   "source": [
    "question = \"can you give a summary of the document?\"\n",
    "response = rag.generate_response(qa_chain=qa_chain, question=question)\n",
    "print(response)"
   ]
  },
  {
   "cell_type": "code",
   "execution_count": 18,
   "metadata": {},
   "outputs": [
    {
     "name": "stdout",
     "output_type": "stream",
     "text": [
      "<coroutine object RunnableSequence.ainvoke at 0x0000020BCDFAFB50>\n"
     ]
    },
    {
     "name": "stderr",
     "output_type": "stream",
     "text": [
      "C:\\Users\\Bolu\\AppData\\Local\\Temp\\ipykernel_26760\\2165583186.py:4: RuntimeWarning: coroutine 'RunnableSequence.ainvoke' was never awaited\n",
      "  response =  await rag.process_query(question=question, qa_chain=qa_chain)\n",
      "RuntimeWarning: Enable tracemalloc to get the object allocation traceback\n"
     ]
    }
   ],
   "source": [
    "import asyncio\n",
    "\n",
    "question = \"What can you tell me about bolu?\"\n",
    "response =  await rag.process_query(question=question, qa_chain=qa_chain)\n",
    "print(response)"
   ]
  }
 ],
 "metadata": {
  "kernelspec": {
   "display_name": "torch",
   "language": "python",
   "name": "python3"
  },
  "language_info": {
   "codemirror_mode": {
    "name": "ipython",
    "version": 3
   },
   "file_extension": ".py",
   "mimetype": "text/x-python",
   "name": "python",
   "nbconvert_exporter": "python",
   "pygments_lexer": "ipython3",
   "version": "3.11.9"
  }
 },
 "nbformat": 4,
 "nbformat_minor": 2
}
